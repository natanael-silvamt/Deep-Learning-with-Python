{
  "nbformat": 4,
  "nbformat_minor": 0,
  "metadata": {
    "colab": {
      "name": "classifying-movie-reviews.ipynb",
      "version": "0.3.2",
      "provenance": [],
      "collapsed_sections": []
    },
    "kernelspec": {
      "name": "python3",
      "display_name": "Python 3"
    }
  },
  "cells": [
    {
      "metadata": {
        "id": "L6q4sUjNbuGk",
        "colab_type": "code",
        "outputId": "e206e060-8603-4222-e9d1-7bd9373f3399",
        "colab": {
          "base_uri": "https://localhost:8080/",
          "height": 34
        }
      },
      "cell_type": "code",
      "source": [
        "from keras.datasets import imdb"
      ],
      "execution_count": 1,
      "outputs": [
        {
          "output_type": "stream",
          "text": [
            "Using TensorFlow backend.\n"
          ],
          "name": "stderr"
        }
      ]
    },
    {
      "metadata": {
        "id": "I57Nbxw2buNQ",
        "colab_type": "code",
        "outputId": "f0d66351-6a79-4d2a-ed91-b2400ce4fedd",
        "colab": {
          "base_uri": "https://localhost:8080/",
          "height": 51
        }
      },
      "cell_type": "code",
      "source": [
        "(train_data, train_labels), (test_data, test_labels) = imdb.load_data(num_words=10000)"
      ],
      "execution_count": 2,
      "outputs": [
        {
          "output_type": "stream",
          "text": [
            "Downloading data from https://s3.amazonaws.com/text-datasets/imdb.npz\n",
            "17465344/17464789 [==============================] - 0s 0us/step\n"
          ],
          "name": "stdout"
        }
      ]
    },
    {
      "metadata": {
        "id": "d2Efg0S7btf9",
        "colab_type": "code",
        "outputId": "230f6274-d16c-4c1b-d637-2bebeb45ce61",
        "colab": {
          "base_uri": "https://localhost:8080/",
          "height": 34
        }
      },
      "cell_type": "code",
      "source": [
        "train_data.shape"
      ],
      "execution_count": 3,
      "outputs": [
        {
          "output_type": "execute_result",
          "data": {
            "text/plain": [
              "(25000,)"
            ]
          },
          "metadata": {
            "tags": []
          },
          "execution_count": 3
        }
      ]
    },
    {
      "metadata": {
        "id": "BeBp_1NEckEa",
        "colab_type": "code",
        "outputId": "7b49da94-622d-4a09-c5a1-70c5fd3b6fea",
        "colab": {
          "base_uri": "https://localhost:8080/",
          "height": 34
        }
      },
      "cell_type": "code",
      "source": [
        "train_labels.shape"
      ],
      "execution_count": 4,
      "outputs": [
        {
          "output_type": "execute_result",
          "data": {
            "text/plain": [
              "(25000,)"
            ]
          },
          "metadata": {
            "tags": []
          },
          "execution_count": 4
        }
      ]
    },
    {
      "metadata": {
        "id": "eZBzQShZbuP5",
        "colab_type": "code",
        "outputId": "7f54a99d-4f98-4b33-8484-9f330314b3a8",
        "colab": {
          "base_uri": "https://localhost:8080/",
          "height": 34
        }
      },
      "cell_type": "code",
      "source": [
        "max([max(sequence) for sequence in train_data])"
      ],
      "execution_count": 5,
      "outputs": [
        {
          "output_type": "execute_result",
          "data": {
            "text/plain": [
              "9999"
            ]
          },
          "metadata": {
            "tags": []
          },
          "execution_count": 5
        }
      ]
    },
    {
      "metadata": {
        "id": "vuliimLDSzwa",
        "colab_type": "text"
      },
      "cell_type": "markdown",
      "source": [
        "## For kicks, here's how you can quickly decode one of these reviews back to English words:"
      ]
    },
    {
      "metadata": {
        "id": "Fkw6mrilcorH",
        "colab_type": "code",
        "colab": {}
      },
      "cell_type": "code",
      "source": [
        "# word_index is a dictionary mapping words to an integer index\n",
        "word_index = imdb.get_word_index()\n",
        "# We reverse it, mapping integer indices to words\n",
        "reverse_word_index = dict([(value, key) for (key, value) in word_index.items()])\n",
        "# We decode the review; note that our indices were offset by 3\n",
        "# because 0, 1 and 2 are reserved indices for \"padding\", \"start of sequence\", and \"unknown\".\n",
        "decoded_review = ' '.join([reverse_word_index.get(i - 3, '?') for i in train_data[0]])\n"
      ],
      "execution_count": 0,
      "outputs": []
    },
    {
      "metadata": {
        "id": "TTl9dlwgcozf",
        "colab_type": "code",
        "colab": {
          "base_uri": "https://localhost:8080/",
          "height": 54
        },
        "outputId": "ee5068b0-fb62-4d30-b7de-fe121520b0d3"
      },
      "cell_type": "code",
      "source": [
        "decoded_review"
      ],
      "execution_count": 9,
      "outputs": [
        {
          "output_type": "execute_result",
          "data": {
            "text/plain": [
              "\"? this film was just brilliant casting location scenery story direction everyone's really suited the part they played and you could just imagine being there robert ? is an amazing actor and now the same being director ? father came from the same scottish island as myself so i loved the fact there was a real connection with this film the witty remarks throughout the film were great it was just brilliant so much that i bought the film as soon as it was released for ? and would recommend it to everyone to watch and the fly fishing was amazing really cried at the end it was so sad and you know what they say if you cry at a film it must have been good and this definitely was also ? to the two little boy's that played the ? of norman and paul they were just brilliant children are often left out of the ? list i think because the stars that play them all grown up are such a big profile for the whole film but these children are amazing and should be praised for what they have done don't you think the whole story was so lovely because it was true and was someone's life after all that was shared with us all\""
            ]
          },
          "metadata": {
            "tags": []
          },
          "execution_count": 9
        }
      ]
    },
    {
      "metadata": {
        "id": "IJIcXHsQURJ4",
        "colab_type": "text"
      },
      "cell_type": "markdown",
      "source": [
        "# Preparing the Data"
      ]
    },
    {
      "metadata": {
        "id": "j6fq8Bl-coyn",
        "colab_type": "code",
        "colab": {}
      },
      "cell_type": "code",
      "source": [
        "import numpy as np"
      ],
      "execution_count": 0,
      "outputs": []
    },
    {
      "metadata": {
        "id": "58B__vM-coqE",
        "colab_type": "code",
        "colab": {}
      },
      "cell_type": "code",
      "source": [
        "def vectorize_sequences(sequences, dimension=10000):\n",
        "  results = np.zeros((len(sequences), dimension))\n",
        "  for i, sequence in enumerate(sequences):\n",
        "    results[i, sequence] = 1\n",
        "  return results"
      ],
      "execution_count": 0,
      "outputs": []
    },
    {
      "metadata": {
        "id": "oq9k2K36buWl",
        "colab_type": "code",
        "colab": {}
      },
      "cell_type": "code",
      "source": [
        "x_train = vectorize_sequences(train_data)\n",
        "x_test = vectorize_sequences(test_data)"
      ],
      "execution_count": 0,
      "outputs": []
    },
    {
      "metadata": {
        "id": "ijuplgwVbucz",
        "colab_type": "code",
        "colab": {
          "base_uri": "https://localhost:8080/",
          "height": 34
        },
        "outputId": "670fd8fb-427c-44bc-8abb-037ac914d647"
      },
      "cell_type": "code",
      "source": [
        "x_train[0]"
      ],
      "execution_count": 15,
      "outputs": [
        {
          "output_type": "execute_result",
          "data": {
            "text/plain": [
              "array([0., 1., 1., ..., 0., 0., 0.])"
            ]
          },
          "metadata": {
            "tags": []
          },
          "execution_count": 15
        }
      ]
    },
    {
      "metadata": {
        "id": "o5Ep90D-buVx",
        "colab_type": "code",
        "colab": {}
      },
      "cell_type": "code",
      "source": [
        "# Our vectorized labels\n",
        "y_train = np.asarray(train_labels).astype('float32')\n",
        "y_test = np.asarray(test_labels).astype('float32')"
      ],
      "execution_count": 0,
      "outputs": []
    },
    {
      "metadata": {
        "id": "xv2_UTqeXFtN",
        "colab_type": "text"
      },
      "cell_type": "markdown",
      "source": [
        "## Building our network"
      ]
    },
    {
      "metadata": {
        "id": "-SYV05l0buMg",
        "colab_type": "code",
        "colab": {}
      },
      "cell_type": "code",
      "source": [
        "from keras import layers\n",
        "from keras import models"
      ],
      "execution_count": 0,
      "outputs": []
    },
    {
      "metadata": {
        "id": "DmQubNvWbuFt",
        "colab_type": "code",
        "colab": {}
      },
      "cell_type": "code",
      "source": [
        "model = models.Sequential()\n",
        "model.add(layers.Dense(16, activation='relu', input_shape=(10000,)))\n",
        "model.add(layers.Dense(16, activation='relu'))\n",
        "model.add(layers.Dense(1, activation='sigmoid'))"
      ],
      "execution_count": 0,
      "outputs": []
    },
    {
      "metadata": {
        "id": "43QM4hfYXODK",
        "colab_type": "code",
        "colab": {}
      },
      "cell_type": "code",
      "source": [
        "from keras import optimizers\n",
        "from keras import losses\n",
        "from keras import metrics\n"
      ],
      "execution_count": 0,
      "outputs": []
    },
    {
      "metadata": {
        "id": "Fg1zEPOgXOIz",
        "colab_type": "code",
        "colab": {}
      },
      "cell_type": "code",
      "source": [
        "model.compile(optimizer=optimizers.RMSprop(lr=0.001), loss=losses.binary_crossentropy, metrics=[metrics.binary_accuracy])"
      ],
      "execution_count": 0,
      "outputs": []
    },
    {
      "metadata": {
        "id": "INYkiGMCZa2i",
        "colab_type": "text"
      },
      "cell_type": "markdown",
      "source": [
        "## Validating our approach"
      ]
    },
    {
      "metadata": {
        "id": "RcwQ-XfWXOLQ",
        "colab_type": "code",
        "colab": {}
      },
      "cell_type": "code",
      "source": [
        "x_val = x_train[:10000]\n",
        "partial_x_train = x_train[10000:]\n",
        "\n",
        "y_val = y_train[:10000]\n",
        "partial_y_train = y_train[10000:]"
      ],
      "execution_count": 0,
      "outputs": []
    },
    {
      "metadata": {
        "id": "0SP3UVL6XOOP",
        "colab_type": "code",
        "colab": {
          "base_uri": "https://localhost:8080/",
          "height": 734
        },
        "outputId": "d86ec78e-1c3f-4483-da80-24e66f1c323a"
      },
      "cell_type": "code",
      "source": [
        "history = model.fit(partial_x_train, partial_y_train, epochs=20, batch_size=512, validation_data=(x_val, y_val))"
      ],
      "execution_count": 23,
      "outputs": [
        {
          "output_type": "stream",
          "text": [
            "Train on 15000 samples, validate on 10000 samples\n",
            "Epoch 1/20\n",
            "15000/15000 [==============================] - 2s 162us/step - loss: 0.5087 - binary_accuracy: 0.7813 - val_loss: 0.3801 - val_binary_accuracy: 0.8688\n",
            "Epoch 2/20\n",
            "15000/15000 [==============================] - 2s 118us/step - loss: 0.3008 - binary_accuracy: 0.9051 - val_loss: 0.3006 - val_binary_accuracy: 0.8901\n",
            "Epoch 3/20\n",
            "15000/15000 [==============================] - 2s 116us/step - loss: 0.2181 - binary_accuracy: 0.9278 - val_loss: 0.3086 - val_binary_accuracy: 0.8719\n",
            "Epoch 4/20\n",
            "15000/15000 [==============================] - 2s 117us/step - loss: 0.1751 - binary_accuracy: 0.9435 - val_loss: 0.2842 - val_binary_accuracy: 0.8839\n",
            "Epoch 5/20\n",
            "15000/15000 [==============================] - 2s 117us/step - loss: 0.1427 - binary_accuracy: 0.9541 - val_loss: 0.2847 - val_binary_accuracy: 0.8865\n",
            "Epoch 6/20\n",
            "15000/15000 [==============================] - 2s 117us/step - loss: 0.1150 - binary_accuracy: 0.9654 - val_loss: 0.3156 - val_binary_accuracy: 0.8774\n",
            "Epoch 7/20\n",
            "15000/15000 [==============================] - 2s 115us/step - loss: 0.0981 - binary_accuracy: 0.9704 - val_loss: 0.3126 - val_binary_accuracy: 0.8845\n",
            "Epoch 8/20\n",
            "15000/15000 [==============================] - 2s 117us/step - loss: 0.0808 - binary_accuracy: 0.9763 - val_loss: 0.3853 - val_binary_accuracy: 0.8655\n",
            "Epoch 9/20\n",
            "15000/15000 [==============================] - 2s 118us/step - loss: 0.0661 - binary_accuracy: 0.9821 - val_loss: 0.3632 - val_binary_accuracy: 0.8783\n",
            "Epoch 10/20\n",
            "15000/15000 [==============================] - 2s 116us/step - loss: 0.0559 - binary_accuracy: 0.9852 - val_loss: 0.3841 - val_binary_accuracy: 0.8790\n",
            "Epoch 11/20\n",
            "15000/15000 [==============================] - 2s 115us/step - loss: 0.0448 - binary_accuracy: 0.9887 - val_loss: 0.4156 - val_binary_accuracy: 0.8764\n",
            "Epoch 12/20\n",
            "15000/15000 [==============================] - 2s 117us/step - loss: 0.0384 - binary_accuracy: 0.9913 - val_loss: 0.4506 - val_binary_accuracy: 0.8698\n",
            "Epoch 13/20\n",
            "15000/15000 [==============================] - 2s 116us/step - loss: 0.0300 - binary_accuracy: 0.9930 - val_loss: 0.4693 - val_binary_accuracy: 0.8728\n",
            "Epoch 14/20\n",
            "15000/15000 [==============================] - 2s 117us/step - loss: 0.0248 - binary_accuracy: 0.9947 - val_loss: 0.5029 - val_binary_accuracy: 0.8714\n",
            "Epoch 15/20\n",
            "15000/15000 [==============================] - 2s 119us/step - loss: 0.0175 - binary_accuracy: 0.9980 - val_loss: 0.5386 - val_binary_accuracy: 0.8705\n",
            "Epoch 16/20\n",
            "15000/15000 [==============================] - 2s 118us/step - loss: 0.0163 - binary_accuracy: 0.9972 - val_loss: 0.5728 - val_binary_accuracy: 0.8690\n",
            "Epoch 17/20\n",
            "15000/15000 [==============================] - 2s 116us/step - loss: 0.0099 - binary_accuracy: 0.9992 - val_loss: 0.6518 - val_binary_accuracy: 0.8597\n",
            "Epoch 18/20\n",
            "15000/15000 [==============================] - 2s 115us/step - loss: 0.0130 - binary_accuracy: 0.9971 - val_loss: 0.6418 - val_binary_accuracy: 0.8679\n",
            "Epoch 19/20\n",
            "15000/15000 [==============================] - 2s 116us/step - loss: 0.0053 - binary_accuracy: 0.9998 - val_loss: 0.7092 - val_binary_accuracy: 0.8592\n",
            "Epoch 20/20\n",
            "15000/15000 [==============================] - 2s 115us/step - loss: 0.0095 - binary_accuracy: 0.9980 - val_loss: 0.6985 - val_binary_accuracy: 0.8660\n"
          ],
          "name": "stdout"
        }
      ]
    },
    {
      "metadata": {
        "id": "UtCLizyIXOQ5",
        "colab_type": "code",
        "colab": {
          "base_uri": "https://localhost:8080/",
          "height": 34
        },
        "outputId": "09fc103f-8d08-45a7-cf98-39b2db4248b6"
      },
      "cell_type": "code",
      "source": [
        "history_dict = history.history\n",
        "history_dict.keys()"
      ],
      "execution_count": 24,
      "outputs": [
        {
          "output_type": "execute_result",
          "data": {
            "text/plain": [
              "dict_keys(['val_loss', 'val_binary_accuracy', 'loss', 'binary_accuracy'])"
            ]
          },
          "metadata": {
            "tags": []
          },
          "execution_count": 24
        }
      ]
    },
    {
      "metadata": {
        "id": "xi9xRohEXOU0",
        "colab_type": "code",
        "colab": {}
      },
      "cell_type": "code",
      "source": [
        "import matplotlib.pyplot as plt"
      ],
      "execution_count": 0,
      "outputs": []
    },
    {
      "metadata": {
        "id": "PtXrtnYJXOZf",
        "colab_type": "code",
        "colab": {
          "base_uri": "https://localhost:8080/",
          "height": 376
        },
        "outputId": "3be1ef57-de23-4734-aa6c-82d819a8e04b"
      },
      "cell_type": "code",
      "source": [
        "acc = history.history['binary_accuracy']\n",
        "val_acc = history.history['val_binary_accuracy']\n",
        "loss = history.history['loss']\n",
        "val_loss = history.history['val_loss']\n",
        "\n",
        "epochs = range(1, len(acc) + 1)\n",
        "\n",
        "plt.plot(epochs, loss, 'bo', label='Training Loss')\n",
        "plt.plot(epochs, val_loss, 'b', label='Validation Loss')\n",
        "plt.title('Training and Validation Loss')\n",
        "plt.xlabel('Epochs')\n",
        "plt.ylabel('Loss')\n",
        "plt.legend()\n",
        "plt.show()"
      ],
      "execution_count": 27,
      "outputs": [
        {
          "output_type": "display_data",
          "data": {
            "image/png": "[encoded data removed]",
            "text/plain": [
              "<matplotlib.figure.Figure at 0x7f4bbc020160>"
            ]
          },
          "metadata": {
            "tags": []
          }
        }
      ]
    },
    {
      "metadata": {
        "id": "-0oZ7glNXOYW",
        "colab_type": "code",
        "colab": {
          "base_uri": "https://localhost:8080/",
          "height": 376
        },
        "outputId": "52505453-cbc4-40f4-e819-949d9f5aee58"
      },
      "cell_type": "code",
      "source": [
        "plt.clf()   # clear figure\n",
        "acc_values = history_dict['binary_accuracy']\n",
        "val_acc_values = history_dict['val_binary_accuracy']\n",
        "\n",
        "plt.plot(epochs, acc, 'bo', label='Training acc')\n",
        "plt.plot(epochs, val_acc, 'b', label='Validation acc')\n",
        "plt.title('Training and validation accuracy')\n",
        "plt.xlabel('Epochs')\n",
        "plt.ylabel('Loss')\n",
        "plt.legend()\n",
        "\n",
        "plt.show()"
      ],
      "execution_count": 28,
      "outputs": [
        {
          "output_type": "display_data",
          "data": {
            "image/png": "[encoded data removed]",
            "text/plain": [
              "<matplotlib.figure.Figure at 0x7f4bbc0206a0>"
            ]
          },
          "metadata": {
            "tags": []
          }
        }
      ]
    },
    {
      "metadata": {
        "id": "DtHC_rh4eSpu",
        "colab_type": "text"
      },
      "cell_type": "markdown",
      "source": [
        "### Let's train a new network from scratch for four epochs, then evaluate it on our test data:"
      ]
    },
    {
      "metadata": {
        "id": "GQLdY2E8XOXb",
        "colab_type": "code",
        "colab": {
          "base_uri": "https://localhost:8080/",
          "height": 170
        },
        "outputId": "630a6abb-2b33-4feb-cde9-a22ca1339197"
      },
      "cell_type": "code",
      "source": [
        "model = models.Sequential()\n",
        "model.add(layers.Dense(16, activation='relu', input_shape=(10000,)))\n",
        "model.add(layers.Dense(16, activation='relu'))\n",
        "model.add(layers.Dense(1, activation='sigmoid'))\n",
        "\n",
        "model.compile(optimizer='rmsprop', loss='binary_crossentropy', metrics=['accuracy'])\n",
        "\n",
        "model.fit(x_train, y_train, epochs=4, batch_size=512)\n",
        "results = model.evaluate(x_test, y_test)"
      ],
      "execution_count": 29,
      "outputs": [
        {
          "output_type": "stream",
          "text": [
            "Epoch 1/4\n",
            "25000/25000 [==============================] - 3s 108us/step - loss: 0.4737 - acc: 0.8220\n",
            "Epoch 2/4\n",
            "25000/25000 [==============================] - 2s 83us/step - loss: 0.2674 - acc: 0.9092\n",
            "Epoch 3/4\n",
            "25000/25000 [==============================] - 2s 79us/step - loss: 0.2033 - acc: 0.9284\n",
            "Epoch 4/4\n",
            "25000/25000 [==============================] - 2s 80us/step - loss: 0.1714 - acc: 0.9388\n",
            "25000/25000 [==============================] - 1s 55us/step\n"
          ],
          "name": "stdout"
        }
      ]
    },
    {
      "metadata": {
        "id": "f9Kvjl6FXOTx",
        "colab_type": "code",
        "colab": {
          "base_uri": "https://localhost:8080/",
          "height": 34
        },
        "outputId": "54fa383f-0f18-4bbc-e016-c4fff6944c0f"
      },
      "cell_type": "code",
      "source": [
        "results"
      ],
      "execution_count": 30,
      "outputs": [
        {
          "output_type": "execute_result",
          "data": {
            "text/plain": [
              "[0.31085831364631655, 0.87616]"
            ]
          },
          "metadata": {
            "tags": []
          },
          "execution_count": 30
        }
      ]
    },
    {
      "metadata": {
        "id": "IsZBe9nnes5V",
        "colab_type": "text"
      },
      "cell_type": "markdown",
      "source": [
        "Our fairly naive approach achieves an accuracy of 88%. With state-of-the-art approaches, one should be able to get close to 95%."
      ]
    },
    {
      "metadata": {
        "id": "uI_03q9Ye0ee",
        "colab_type": "text"
      },
      "cell_type": "markdown",
      "source": [
        "## Using a trained network to generate predictions on new data"
      ]
    },
    {
      "metadata": {
        "id": "FT3LJa_CXOHl",
        "colab_type": "code",
        "colab": {
          "base_uri": "https://localhost:8080/",
          "height": 136
        },
        "outputId": "08727690-2490-4426-e695-23a302a2decc"
      },
      "cell_type": "code",
      "source": [
        "model.predict(x_test)"
      ],
      "execution_count": 31,
      "outputs": [
        {
          "output_type": "execute_result",
          "data": {
            "text/plain": [
              "array([[0.1606919 ],\n",
              "       [0.99985313],\n",
              "       [0.39805213],\n",
              "       ...,\n",
              "       [0.08255146],\n",
              "       [0.04970707],\n",
              "       [0.45881623]], dtype=float32)"
            ]
          },
          "metadata": {
            "tags": []
          },
          "execution_count": 31
        }
      ]
    },
    {
      "metadata": {
        "id": "4htTHCdYfESr",
        "colab_type": "text"
      },
      "cell_type": "markdown",
      "source": [
        "As you can see, the network is very confident for some samples (0.99 or more, or 0.01 or less) but less confident for others (0.6, 0.4)."
      ]
    },
    {
      "metadata": {
        "id": "qrJiX7wpevaY",
        "colab_type": "code",
        "colab": {}
      },
      "cell_type": "code",
      "source": [
        ""
      ],
      "execution_count": 0,
      "outputs": []
    }
  ]
}