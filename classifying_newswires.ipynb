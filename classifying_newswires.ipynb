{
  "nbformat": 4,
  "nbformat_minor": 0,
  "metadata": {
    "colab": {
      "name": "classifying-newswires.ipynb",
      "version": "0.3.2",
      "provenance": [],
      "collapsed_sections": []
    },
    "kernelspec": {
      "name": "python3",
      "display_name": "Python 3"
    }
  },
  "cells": [
    {
      "metadata": {
        "id": "cyNs2kdgrrlS",
        "colab_type": "code",
        "cellView": "both",
        "colab": {}
      },
      "cell_type": "code",
      "source": [
        "from keras.datasets import reuters\n",
        "import numpy as np\n",
        "from keras.utils.np_utils import to_categorical\n",
        "from keras import models\n",
        "from keras import layers\n",
        "import matplotlib.pyplot as plt\n",
        "import copy"
      ],
      "execution_count": 0,
      "outputs": []
    },
    {
      "metadata": {
        "id": "HiMOWv5QrsQm",
        "colab_type": "code",
        "colab": {
          "base_uri": "https://localhost:8080/",
          "height": 54
        },
        "outputId": "6c113aca-a66d-4764-e4d4-ae20a6e0df72"
      },
      "cell_type": "code",
      "source": [
        "(train_data, train_labels), (test_data, test_labels) = reuters.load_data(num_words=10000)"
      ],
      "execution_count": 2,
      "outputs": [
        {
          "output_type": "stream",
          "text": [
            "Downloading data from https://s3.amazonaws.com/text-datasets/reuters.npz\n",
            "2113536/2110848 [==============================] - 0s 0us/step\n"
          ],
          "name": "stdout"
        }
      ]
    },
    {
      "metadata": {
        "id": "tML3o5MICHkX",
        "colab_type": "code",
        "colab": {
          "base_uri": "https://localhost:8080/",
          "height": 35
        },
        "outputId": "fb094139-b58b-408d-87b1-94782432f0ee"
      },
      "cell_type": "code",
      "source": [
        "print(len(train_data), len(test_data))"
      ],
      "execution_count": 3,
      "outputs": [
        {
          "output_type": "stream",
          "text": [
            "8982 2246\n"
          ],
          "name": "stdout"
        }
      ]
    },
    {
      "metadata": {
        "id": "rMs3OhFSCHot",
        "colab_type": "code",
        "colab": {
          "base_uri": "https://localhost:8080/",
          "height": 55
        },
        "outputId": "33c91ad5-4674-4974-fad4-d14d559af40c"
      },
      "cell_type": "code",
      "source": [
        "print(train_data[1])"
      ],
      "execution_count": 4,
      "outputs": [
        {
          "output_type": "stream",
          "text": [
            "[1, 3267, 699, 3434, 2295, 56, 2, 7511, 9, 56, 3906, 1073, 81, 5, 1198, 57, 366, 737, 132, 20, 4093, 7, 2, 49, 2295, 2, 1037, 3267, 699, 3434, 8, 7, 10, 241, 16, 855, 129, 231, 783, 5, 4, 587, 2295, 2, 2, 775, 7, 48, 34, 191, 44, 35, 1795, 505, 17, 12]\n"
          ],
          "name": "stdout"
        }
      ]
    },
    {
      "metadata": {
        "id": "z3LfV51jC08c",
        "colab_type": "text"
      },
      "cell_type": "markdown",
      "source": [
        "## Here's how you can decode it back to words, in case you are curious:"
      ]
    },
    {
      "metadata": {
        "id": "b9L73VcTCHwh",
        "colab_type": "code",
        "colab": {}
      },
      "cell_type": "code",
      "source": [
        "word_index = reuters.get_word_index()\n",
        "reverse_word_index = dict([(value, key) for (key, value) in word_index.items()])\n",
        "decoded_newswire = ' '.join([reverse_word_index.get(i - 3, '?') for i in train_data[0]])"
      ],
      "execution_count": 0,
      "outputs": []
    },
    {
      "metadata": {
        "id": "BvQqMsI3CH6J",
        "colab_type": "code",
        "colab": {
          "base_uri": "https://localhost:8080/",
          "height": 55
        },
        "outputId": "2228b3f0-7b73-41aa-ae5b-f2df2aaf5c02"
      },
      "cell_type": "code",
      "source": [
        "decoded_newswire"
      ],
      "execution_count": 8,
      "outputs": [
        {
          "output_type": "execute_result",
          "data": {
            "text/plain": [
              "'? ? ? said as a result of its december acquisition of space co it expects earnings per share in 1987 of 1 15 to 1 30 dlrs per share up from 70 cts in 1986 the company said pretax net should rise to nine to 10 mln dlrs from six mln dlrs in 1986 and rental operation revenues to 19 to 22 mln dlrs from 12 5 mln dlrs it said cash flow per share this year should be 2 50 to three dlrs reuter 3'"
            ]
          },
          "metadata": {
            "tags": []
          },
          "execution_count": 8
        }
      ]
    },
    {
      "metadata": {
        "id": "wWc-tIFrDpkE",
        "colab_type": "text"
      },
      "cell_type": "markdown",
      "source": [
        "## The label associated with an example is an integer between 0 and 45: a topic index."
      ]
    },
    {
      "metadata": {
        "id": "J3G79KVeCHje",
        "colab_type": "code",
        "colab": {
          "base_uri": "https://localhost:8080/",
          "height": 35
        },
        "outputId": "8c5612d8-de5c-451d-ae6c-d242e523420d"
      },
      "cell_type": "code",
      "source": [
        "train_labels[0]"
      ],
      "execution_count": 9,
      "outputs": [
        {
          "output_type": "execute_result",
          "data": {
            "text/plain": [
              "3"
            ]
          },
          "metadata": {
            "tags": []
          },
          "execution_count": 9
        }
      ]
    },
    {
      "metadata": {
        "id": "GHiL2J93D48T",
        "colab_type": "text"
      },
      "cell_type": "markdown",
      "source": [
        "# Preparing the data"
      ]
    },
    {
      "metadata": {
        "id": "fr1-4vKQD-su",
        "colab_type": "text"
      },
      "cell_type": "markdown",
      "source": [
        "### We can vectorize the data with the exact same code as in our previous example:"
      ]
    },
    {
      "metadata": {
        "id": "FuRMhFXursUP",
        "colab_type": "code",
        "colab": {}
      },
      "cell_type": "code",
      "source": [
        "def vectorize_sequences(sequences, dimension=10000):\n",
        "  results = np.zeros((len(sequences), dimension))\n",
        "  for i, sequence in enumerate(sequences):\n",
        "    results[i, sequence] = 1\n",
        "  return results\n",
        "\n",
        "# our vectorized training data\n",
        "x_train = vectorize_sequences(train_data)\n",
        "# our vectorized test data\n",
        "x_test = vectorize_sequences(test_data)"
      ],
      "execution_count": 0,
      "outputs": []
    },
    {
      "metadata": {
        "id": "kmkF8wAOrsXu",
        "colab_type": "code",
        "colab": {}
      },
      "cell_type": "code",
      "source": [
        "def to_one_hot(labels, dimension=46):\n",
        "  results = np.zeros((len(labels), dimension))\n",
        "  for i, label in enumerate(labels):\n",
        "    results[i, label] = 1\n",
        "  return results\n",
        "\n",
        "# our vectorized training labels\n",
        "one_hot_train_labels = to_one_hot(train_labels)\n",
        "# our vectorized test labels\n",
        "one_hot_test_labels = to_one_hot(test_labels)"
      ],
      "execution_count": 0,
      "outputs": []
    },
    {
      "metadata": {
        "id": "i1BdmTqpI2by",
        "colab_type": "text"
      },
      "cell_type": "markdown",
      "source": [
        "### Note that there is a built-in way to do this in Keras, which you have already seen in action in our MNIST example:"
      ]
    },
    {
      "metadata": {
        "id": "YuhDoEtFrsat",
        "colab_type": "code",
        "colab": {}
      },
      "cell_type": "code",
      "source": [
        "one_hot_train_labels = to_categorical(train_labels)\n",
        "one_hot_test_labels = to_categorical(test_labels)"
      ],
      "execution_count": 0,
      "outputs": []
    },
    {
      "metadata": {
        "id": "LakD_uW0JESq",
        "colab_type": "text"
      },
      "cell_type": "markdown",
      "source": [
        "# Building our Notebook"
      ]
    },
    {
      "metadata": {
        "id": "IbZlS-0Krsi2",
        "colab_type": "code",
        "colab": {}
      },
      "cell_type": "code",
      "source": [
        "model = models.Sequential()\n",
        "model.add(layers.Dense(64, activation='relu', input_shape=(10000,)))\n",
        "model.add(layers.Dense(64, activation='relu'))\n",
        "model.add(layers.Dense(46, activation='softmax'))"
      ],
      "execution_count": 0,
      "outputs": []
    },
    {
      "metadata": {
        "id": "oEzsu1HPJDft",
        "colab_type": "code",
        "colab": {}
      },
      "cell_type": "code",
      "source": [
        "model.compile(optimizer='rmsprop', loss='categorical_crossentropy', metrics=['accuracy'])"
      ],
      "execution_count": 0,
      "outputs": []
    },
    {
      "metadata": {
        "id": "-zy9eYbkLENG",
        "colab_type": "text"
      },
      "cell_type": "markdown",
      "source": [
        "## Validating our approach"
      ]
    },
    {
      "metadata": {
        "id": "VBZWnKjmLJwj",
        "colab_type": "text"
      },
      "cell_type": "markdown",
      "source": [
        "### Let's set apart 1,000 samples in our training data to use as a validation set:"
      ]
    },
    {
      "metadata": {
        "id": "hSWnZn8OJDjA",
        "colab_type": "code",
        "colab": {}
      },
      "cell_type": "code",
      "source": [
        "x_val = x_train[:1000]\n",
        "partial_x_train = x_train[1000:]\n",
        "\n",
        "y_val = one_hot_train_labels[:1000]\n",
        "partial_y_train = one_hot_train_labels[1000:]"
      ],
      "execution_count": 0,
      "outputs": []
    },
    {
      "metadata": {
        "id": "i5_822csLVQ0",
        "colab_type": "text"
      },
      "cell_type": "markdown",
      "source": [
        "### Now let's train our network for 20 epochs:"
      ]
    },
    {
      "metadata": {
        "id": "-Z-c3td6LL0p",
        "colab_type": "code",
        "colab": {
          "base_uri": "https://localhost:8080/",
          "height": 783
        },
        "outputId": "7d8c9ad9-8af5-4da7-840f-00e084477035"
      },
      "cell_type": "code",
      "source": [
        "history = model.fit(partial_x_train, partial_y_train, epochs=20, batch_size=512, validation_data=(x_val, y_val))"
      ],
      "execution_count": 20,
      "outputs": [
        {
          "output_type": "stream",
          "text": [
            "Train on 7982 samples, validate on 1000 samples\n",
            "Epoch 1/20\n",
            "7982/7982 [==============================] - 2s 223us/step - loss: 2.5192 - acc: 0.4960 - val_loss: 1.7188 - val_acc: 0.6130\n",
            "Epoch 2/20\n",
            "7982/7982 [==============================] - 1s 133us/step - loss: 1.4434 - acc: 0.6879 - val_loss: 1.3476 - val_acc: 0.7100\n",
            "Epoch 3/20\n",
            "7982/7982 [==============================] - 1s 147us/step - loss: 1.0948 - acc: 0.7650 - val_loss: 1.1715 - val_acc: 0.7370\n",
            "Epoch 4/20\n",
            "7982/7982 [==============================] - 1s 154us/step - loss: 0.8699 - acc: 0.8171 - val_loss: 1.0866 - val_acc: 0.7570\n",
            "Epoch 5/20\n",
            "7982/7982 [==============================] - 1s 148us/step - loss: 0.7037 - acc: 0.8488 - val_loss: 0.9861 - val_acc: 0.7850\n",
            "Epoch 6/20\n",
            "7982/7982 [==============================] - 1s 150us/step - loss: 0.5665 - acc: 0.8796 - val_loss: 0.9417 - val_acc: 0.8000\n",
            "Epoch 7/20\n",
            "7982/7982 [==============================] - 1s 148us/step - loss: 0.4597 - acc: 0.9058 - val_loss: 0.9102 - val_acc: 0.8040\n",
            "Epoch 8/20\n",
            "7982/7982 [==============================] - 1s 149us/step - loss: 0.3706 - acc: 0.9230 - val_loss: 0.9351 - val_acc: 0.7900\n",
            "Epoch 9/20\n",
            "7982/7982 [==============================] - 1s 148us/step - loss: 0.3047 - acc: 0.9307 - val_loss: 0.8916 - val_acc: 0.8080\n",
            "Epoch 10/20\n",
            "7982/7982 [==============================] - 1s 151us/step - loss: 0.2553 - acc: 0.9410 - val_loss: 0.9019 - val_acc: 0.8120\n",
            "Epoch 11/20\n",
            "7982/7982 [==============================] - 1s 149us/step - loss: 0.2200 - acc: 0.9470 - val_loss: 0.9157 - val_acc: 0.8110\n",
            "Epoch 12/20\n",
            "7982/7982 [==============================] - 1s 148us/step - loss: 0.1885 - acc: 0.9508 - val_loss: 0.9031 - val_acc: 0.8180\n",
            "Epoch 13/20\n",
            "7982/7982 [==============================] - 1s 150us/step - loss: 0.1711 - acc: 0.9519 - val_loss: 0.9322 - val_acc: 0.8090\n",
            "Epoch 14/20\n",
            "7982/7982 [==============================] - 1s 148us/step - loss: 0.1545 - acc: 0.9550 - val_loss: 0.9605 - val_acc: 0.8070\n",
            "Epoch 15/20\n",
            "7982/7982 [==============================] - 1s 149us/step - loss: 0.1397 - acc: 0.9562 - val_loss: 0.9664 - val_acc: 0.8170\n",
            "Epoch 16/20\n",
            "7982/7982 [==============================] - 1s 150us/step - loss: 0.1320 - acc: 0.9555 - val_loss: 1.0125 - val_acc: 0.8080\n",
            "Epoch 17/20\n",
            "7982/7982 [==============================] - 1s 148us/step - loss: 0.1224 - acc: 0.9579 - val_loss: 1.0199 - val_acc: 0.7980\n",
            "Epoch 18/20\n",
            "7982/7982 [==============================] - 1s 153us/step - loss: 0.1200 - acc: 0.9578 - val_loss: 1.0395 - val_acc: 0.8090\n",
            "Epoch 19/20\n",
            "7982/7982 [==============================] - 1s 149us/step - loss: 0.1142 - acc: 0.9590 - val_loss: 1.0983 - val_acc: 0.7970\n",
            "Epoch 20/20\n",
            "7982/7982 [==============================] - 1s 149us/step - loss: 0.1114 - acc: 0.9597 - val_loss: 1.0692 - val_acc: 0.8000\n"
          ],
          "name": "stdout"
        }
      ]
    },
    {
      "metadata": {
        "id": "m-oDPzM1Lvux",
        "colab_type": "text"
      },
      "cell_type": "markdown",
      "source": [
        "## Let's display its loss and accuracy curves:"
      ]
    },
    {
      "metadata": {
        "id": "4tM4q-vRLL-g",
        "colab_type": "code",
        "colab": {
          "base_uri": "https://localhost:8080/",
          "height": 376
        },
        "outputId": "9d419454-e431-4354-aa5e-32642882e633"
      },
      "cell_type": "code",
      "source": [
        "loss = history.history['loss']\n",
        "val_loss = history.history['val_loss']\n",
        "\n",
        "epochs = range(1, len(loss) + 1)\n",
        "\n",
        "plt.plot(epochs, loss, 'bo', label='Training loss')\n",
        "plt.plot(epochs, val_loss, 'b', label='Validation loss')\n",
        "plt.title('Training and validation loss')\n",
        "plt.xlabel('Epochs')\n",
        "plt.ylabel('Loss')\n",
        "plt.legend()\n",
        "\n",
        "plt.show()"
      ],
      "execution_count": 22,
      "outputs": [
        {
          "output_type": "display_data",
          "data": {
            "image/png": "[encoded data removed]",
            "text/plain": [
              "<matplotlib.figure.Figure at 0x7fd6c1643f60>"
            ]
          },
          "metadata": {
            "tags": []
          }
        }
      ]
    },
    {
      "metadata": {
        "id": "mt3LMkRqLxrY",
        "colab_type": "code",
        "colab": {
          "base_uri": "https://localhost:8080/",
          "height": 376
        },
        "outputId": "8c12c0b1-883e-4190-9da4-6ec47f1f4ad4"
      },
      "cell_type": "code",
      "source": [
        "plt.clf()   # clear figure\n",
        "\n",
        "acc = history.history['acc']\n",
        "val_acc = history.history['val_acc']\n",
        "\n",
        "plt.plot(epochs, acc, 'bo', label='Training acc')\n",
        "plt.plot(epochs, val_acc, 'b', label='Validation acc')\n",
        "plt.title('Training and validation accuracy')\n",
        "plt.xlabel('Epochs')\n",
        "plt.ylabel('Loss')\n",
        "plt.legend()\n",
        "\n",
        "plt.show()"
      ],
      "execution_count": 23,
      "outputs": [
        {
          "output_type": "display_data",
          "data": {
            "image/png": "[encoded data removed]",
            "text/plain": [
              "<matplotlib.figure.Figure at 0x7fd6c13ac160>"
            ]
          },
          "metadata": {
            "tags": []
          }
        }
      ]
    },
    {
      "metadata": {
        "id": "SzTv4i3WMN20",
        "colab_type": "text"
      },
      "cell_type": "markdown",
      "source": [
        "## It seems that the network starts overfitting after 8 epochs. Let's train a new network from scratch for 8 epochs, then let's evaluate it on the test set:"
      ]
    },
    {
      "metadata": {
        "id": "FYtb8WquLxzS",
        "colab_type": "code",
        "colab": {
          "base_uri": "https://localhost:8080/",
          "height": 365
        },
        "outputId": "d740c37c-211c-42ea-e3e2-af5b1a175b4d"
      },
      "cell_type": "code",
      "source": [
        "model = models.Sequential()\n",
        "model.add(layers.Dense(64, activation='relu', input_shape=(10000,)))\n",
        "model.add(layers.Dense(64, activation='relu'))\n",
        "model.add(layers.Dense(46, activation='softmax'))\n",
        "\n",
        "model.compile(optimizer='rmsprop', loss='categorical_crossentropy', metrics=['accuracy'])\n",
        "model.fit(partial_x_train, partial_y_train, epochs=8, batch_size=512, validation_data=(x_val, y_val))\n",
        "results = model.evaluate(x_test, one_hot_test_labels)"
      ],
      "execution_count": 24,
      "outputs": [
        {
          "output_type": "stream",
          "text": [
            "Train on 7982 samples, validate on 1000 samples\n",
            "Epoch 1/8\n",
            "7982/7982 [==============================] - 1s 168us/step - loss: 2.5329 - acc: 0.5237 - val_loss: 1.6825 - val_acc: 0.6550\n",
            "Epoch 2/8\n",
            "7982/7982 [==============================] - 1s 147us/step - loss: 1.3705 - acc: 0.7137 - val_loss: 1.2746 - val_acc: 0.7190\n",
            "Epoch 3/8\n",
            "7982/7982 [==============================] - 1s 146us/step - loss: 1.0118 - acc: 0.7803 - val_loss: 1.1313 - val_acc: 0.7540\n",
            "Epoch 4/8\n",
            "7982/7982 [==============================] - 1s 147us/step - loss: 0.7969 - acc: 0.8252 - val_loss: 1.0518 - val_acc: 0.7610\n",
            "Epoch 5/8\n",
            "7982/7982 [==============================] - 1s 148us/step - loss: 0.6386 - acc: 0.8632 - val_loss: 0.9732 - val_acc: 0.7960\n",
            "Epoch 6/8\n",
            "7982/7982 [==============================] - 1s 154us/step - loss: 0.5109 - acc: 0.8924 - val_loss: 0.9071 - val_acc: 0.8140\n",
            "Epoch 7/8\n",
            "7982/7982 [==============================] - 1s 155us/step - loss: 0.4109 - acc: 0.9142 - val_loss: 0.8932 - val_acc: 0.8220\n",
            "Epoch 8/8\n",
            "7982/7982 [==============================] - 1s 156us/step - loss: 0.3348 - acc: 0.9286 - val_loss: 0.8719 - val_acc: 0.8260\n",
            "2246/2246 [==============================] - 0s 107us/step\n"
          ],
          "name": "stdout"
        }
      ]
    },
    {
      "metadata": {
        "id": "HVXq8hHPLx2p",
        "colab_type": "code",
        "colab": {
          "base_uri": "https://localhost:8080/",
          "height": 35
        },
        "outputId": "4360cb48-885c-405f-83e4-19d789d86a6a"
      },
      "cell_type": "code",
      "source": [
        "results"
      ],
      "execution_count": 25,
      "outputs": [
        {
          "output_type": "execute_result",
          "data": {
            "text/plain": [
              "[0.9823192083081919, 0.7858414959928762]"
            ]
          },
          "metadata": {
            "tags": []
          },
          "execution_count": 25
        }
      ]
    },
    {
      "metadata": {
        "id": "nmO2Vo39M07D",
        "colab_type": "text"
      },
      "cell_type": "markdown",
      "source": [
        "### Our approach reaches an accuracy of 78%. With a balanced binary classification problem, the accuracy reached by a purely random classifier would be 50%, but in our case it is closer to 19%, so our results seem pretty good, at least when compared to a random baseline:"
      ]
    },
    {
      "metadata": {
        "id": "LQKo0G7yJDnG",
        "colab_type": "code",
        "colab": {
          "base_uri": "https://localhost:8080/",
          "height": 35
        },
        "outputId": "48745129-3e03-43f1-be80-4441f892b943"
      },
      "cell_type": "code",
      "source": [
        "test_labels_copy = copy.copy(test_labels)\n",
        "np.random.shuffle(test_labels_copy)\n",
        "float(np.sum(np.array(test_labels) == np.array(test_labels_copy))) / len(test_labels)"
      ],
      "execution_count": 27,
      "outputs": [
        {
          "output_type": "execute_result",
          "data": {
            "text/plain": [
              "0.19679430097951914"
            ]
          },
          "metadata": {
            "tags": []
          },
          "execution_count": 27
        }
      ]
    },
    {
      "metadata": {
        "id": "BBvh2zBwNFDm",
        "colab_type": "text"
      },
      "cell_type": "markdown",
      "source": [
        "## Generating predictions on new data"
      ]
    },
    {
      "metadata": {
        "id": "ulT8SVvKNUJl",
        "colab_type": "text"
      },
      "cell_type": "markdown",
      "source": [
        "#### We can verify that the predict method of our model instance returns a probability distribution over all 46 topics. Let's generate topic predictions for all of the test data:"
      ]
    },
    {
      "metadata": {
        "id": "IhS0PRfAMn0l",
        "colab_type": "code",
        "colab": {}
      },
      "cell_type": "code",
      "source": [
        "predictions = model.predict(x_test)"
      ],
      "execution_count": 0,
      "outputs": []
    },
    {
      "metadata": {
        "id": "EU8dxpL2NbQK",
        "colab_type": "text"
      },
      "cell_type": "markdown",
      "source": [
        "#### Each entry in predictions is a vector of length 46:"
      ]
    },
    {
      "metadata": {
        "id": "Ew-tb0vjMn8p",
        "colab_type": "code",
        "colab": {
          "base_uri": "https://localhost:8080/",
          "height": 35
        },
        "outputId": "6c834588-6b84-4115-fd05-7e3021ca0dac"
      },
      "cell_type": "code",
      "source": [
        "predictions[0].shape"
      ],
      "execution_count": 29,
      "outputs": [
        {
          "output_type": "execute_result",
          "data": {
            "text/plain": [
              "(46,)"
            ]
          },
          "metadata": {
            "tags": []
          },
          "execution_count": 29
        }
      ]
    },
    {
      "metadata": {
        "id": "0TL-H0m5NkLT",
        "colab_type": "text"
      },
      "cell_type": "markdown",
      "source": [
        "#### The coefficients in this vector sum to 1:"
      ]
    },
    {
      "metadata": {
        "id": "hm3s90QRMoAa",
        "colab_type": "code",
        "colab": {
          "base_uri": "https://localhost:8080/",
          "height": 35
        },
        "outputId": "a83b6aa3-fa26-47c6-81d8-f36647ed0fb5"
      },
      "cell_type": "code",
      "source": [
        "np.sum(predictions[0])"
      ],
      "execution_count": 30,
      "outputs": [
        {
          "output_type": "execute_result",
          "data": {
            "text/plain": [
              "0.9999999"
            ]
          },
          "metadata": {
            "tags": []
          },
          "execution_count": 30
        }
      ]
    },
    {
      "metadata": {
        "id": "Gf_EzPfUNr8q",
        "colab_type": "text"
      },
      "cell_type": "markdown",
      "source": [
        "#### The largest entry is the predicted class, i.e. the class with the highest probability:"
      ]
    },
    {
      "metadata": {
        "id": "R6Vm8bF8MoDE",
        "colab_type": "code",
        "colab": {
          "base_uri": "https://localhost:8080/",
          "height": 35
        },
        "outputId": "81033432-60ab-4369-d4c4-5e2861a8b18a"
      },
      "cell_type": "code",
      "source": [
        "np.argmax(predictions[0])"
      ],
      "execution_count": 31,
      "outputs": [
        {
          "output_type": "execute_result",
          "data": {
            "text/plain": [
              "3"
            ]
          },
          "metadata": {
            "tags": []
          },
          "execution_count": 31
        }
      ]
    },
    {
      "metadata": {
        "id": "8eJULKoPODL7",
        "colab_type": "text"
      },
      "cell_type": "markdown",
      "source": [
        "## A different way to handle the labels and the loss"
      ]
    },
    {
      "metadata": {
        "id": "lzMZrAl5JDp6",
        "colab_type": "code",
        "colab": {}
      },
      "cell_type": "code",
      "source": [
        "y_train = np.array(train_labels)\n",
        "y_test = np.array(test_labels)"
      ],
      "execution_count": 0,
      "outputs": []
    },
    {
      "metadata": {
        "id": "NRzg1-SjNwhZ",
        "colab_type": "code",
        "colab": {}
      },
      "cell_type": "code",
      "source": [
        "model.compile(optimizer='rmsprop', loss='sparse_categorical_crossentropy', metrics=['acc'])"
      ],
      "execution_count": 0,
      "outputs": []
    },
    {
      "metadata": {
        "id": "bEWVcDJsNwku",
        "colab_type": "code",
        "colab": {
          "base_uri": "https://localhost:8080/",
          "height": 783
        },
        "outputId": "f52f9360-aa80-4c41-ecbc-79fce3f4606e"
      },
      "cell_type": "code",
      "source": [
        "model = models.Sequential()\n",
        "model.add(layers.Dense(64, activation='relu', input_shape=(10000,)))\n",
        "model.add(layers.Dense(4, activation='relu'))\n",
        "model.add(layers.Dense(46, activation='softmax'))\n",
        "\n",
        "model.compile(optimizer='rmsprop', loss='categorical_crossentropy', metrics=['accuracy'])\n",
        "result_final = model.fit(partial_x_train, partial_y_train, epochs=20, batch_size=128, validation_data=(x_val, y_val))"
      ],
      "execution_count": 34,
      "outputs": [
        {
          "output_type": "stream",
          "text": [
            "Train on 7982 samples, validate on 1000 samples\n",
            "Epoch 1/20\n",
            "7982/7982 [==============================] - 2s 233us/step - loss: 2.7063 - acc: 0.4395 - val_loss: 2.0151 - val_acc: 0.5930\n",
            "Epoch 2/20\n",
            "7982/7982 [==============================] - 2s 192us/step - loss: 1.7333 - acc: 0.6179 - val_loss: 1.6563 - val_acc: 0.6120\n",
            "Epoch 3/20\n",
            "7982/7982 [==============================] - 2s 191us/step - loss: 1.4668 - acc: 0.6359 - val_loss: 1.5681 - val_acc: 0.6050\n",
            "Epoch 4/20\n",
            "7982/7982 [==============================] - 1s 188us/step - loss: 1.3256 - acc: 0.6421 - val_loss: 1.4817 - val_acc: 0.6150\n",
            "Epoch 5/20\n",
            "7982/7982 [==============================] - 2s 188us/step - loss: 1.2148 - acc: 0.6495 - val_loss: 1.4535 - val_acc: 0.6210\n",
            "Epoch 6/20\n",
            "7982/7982 [==============================] - 2s 188us/step - loss: 1.1240 - acc: 0.6758 - val_loss: 1.4347 - val_acc: 0.6320\n",
            "Epoch 7/20\n",
            "7982/7982 [==============================] - 2s 188us/step - loss: 1.0499 - acc: 0.6938 - val_loss: 1.4573 - val_acc: 0.6380\n",
            "Epoch 8/20\n",
            "7982/7982 [==============================] - 1s 188us/step - loss: 0.9900 - acc: 0.7031 - val_loss: 1.4387 - val_acc: 0.6540\n",
            "Epoch 9/20\n",
            "7982/7982 [==============================] - 2s 189us/step - loss: 0.9391 - acc: 0.7199 - val_loss: 1.4849 - val_acc: 0.6540\n",
            "Epoch 10/20\n",
            "7982/7982 [==============================] - 1s 187us/step - loss: 0.8957 - acc: 0.7444 - val_loss: 1.5089 - val_acc: 0.6620\n",
            "Epoch 11/20\n",
            "7982/7982 [==============================] - 2s 189us/step - loss: 0.8574 - acc: 0.7561 - val_loss: 1.5301 - val_acc: 0.6690\n",
            "Epoch 12/20\n",
            "7982/7982 [==============================] - 2s 188us/step - loss: 0.8230 - acc: 0.7611 - val_loss: 1.5292 - val_acc: 0.6660\n",
            "Epoch 13/20\n",
            "7982/7982 [==============================] - 2s 190us/step - loss: 0.7931 - acc: 0.7709 - val_loss: 1.5435 - val_acc: 0.6710\n",
            "Epoch 14/20\n",
            "7982/7982 [==============================] - 1s 186us/step - loss: 0.7659 - acc: 0.7759 - val_loss: 1.6044 - val_acc: 0.6720\n",
            "Epoch 15/20\n",
            "7982/7982 [==============================] - 2s 188us/step - loss: 0.7407 - acc: 0.7883 - val_loss: 1.6309 - val_acc: 0.6780\n",
            "Epoch 16/20\n",
            "7982/7982 [==============================] - 2s 189us/step - loss: 0.7189 - acc: 0.7952 - val_loss: 1.7216 - val_acc: 0.6750\n",
            "Epoch 17/20\n",
            "7982/7982 [==============================] - 2s 189us/step - loss: 0.6993 - acc: 0.8047 - val_loss: 1.7690 - val_acc: 0.6690\n",
            "Epoch 18/20\n",
            "7982/7982 [==============================] - 1s 187us/step - loss: 0.6803 - acc: 0.8092 - val_loss: 1.7670 - val_acc: 0.6770\n",
            "Epoch 19/20\n",
            "7982/7982 [==============================] - 2s 191us/step - loss: 0.6625 - acc: 0.8120 - val_loss: 1.8074 - val_acc: 0.6780\n",
            "Epoch 20/20\n",
            "7982/7982 [==============================] - 2s 203us/step - loss: 0.6467 - acc: 0.8171 - val_loss: 1.8322 - val_acc: 0.6770\n"
          ],
          "name": "stdout"
        }
      ]
    },
    {
      "metadata": {
        "id": "qcltjTtNNwoY",
        "colab_type": "code",
        "colab": {
          "base_uri": "https://localhost:8080/",
          "height": 376
        },
        "outputId": "d8f1d2f4-e29d-4bd4-d630-42dd379cf6ed"
      },
      "cell_type": "code",
      "source": [
        "loss = result_final.history['loss']\n",
        "val_loss = result_final.history['val_loss']\n",
        "\n",
        "epochs = range(1, len(loss) + 1)\n",
        "\n",
        "plt.plot(epochs, loss, 'bo', label='Training loss')\n",
        "plt.plot(epochs, val_loss, 'b', label='Validation loss')\n",
        "plt.title('Training and validation loss')\n",
        "plt.xlabel('Epochs')\n",
        "plt.ylabel('Loss')\n",
        "plt.legend()\n",
        "\n",
        "plt.show()"
      ],
      "execution_count": 35,
      "outputs": [
        {
          "output_type": "display_data",
          "data": {
            "image/png": "[encoded data removed]",
            "text/plain": [
              "<matplotlib.figure.Figure at 0x7fd6c1f414a8>"
            ]
          },
          "metadata": {
            "tags": []
          }
        }
      ]
    },
    {
      "metadata": {
        "id": "-AmYz9GbNwrS",
        "colab_type": "code",
        "colab": {
          "base_uri": "https://localhost:8080/",
          "height": 376
        },
        "outputId": "9ee453de-b6ce-4e26-fc1e-7708ba8bb7a8"
      },
      "cell_type": "code",
      "source": [
        "plt.clf()   # clear figure\n",
        "\n",
        "acc = result_final.history['acc']\n",
        "val_acc = result_final.history['val_acc']\n",
        "\n",
        "plt.plot(epochs, acc, 'bo', label='Training acc')\n",
        "plt.plot(epochs, val_acc, 'b', label='Validation acc')\n",
        "plt.title('Training and validation accuracy')\n",
        "plt.xlabel('Epochs')\n",
        "plt.ylabel('Loss')\n",
        "plt.legend()\n",
        "\n",
        "plt.show()"
      ],
      "execution_count": 36,
      "outputs": [
        {
          "output_type": "display_data",
          "data": {
            "image/png": "[encoded data removed]",
            "text/plain": [
              "<matplotlib.figure.Figure at 0x7fd6c1ae1898>"
            ]
          },
          "metadata": {
            "tags": []
          }
        }
      ]
    },
    {
      "metadata": {
        "id": "UcbNvlZiPfXH",
        "colab_type": "text"
      },
      "cell_type": "markdown",
      "source": [
        "## Our network now seems to peak at 71% test accuracy, a 8% absolute drop. This drop is mostly due to the fact that we are now trying to compress a lot of information (enough information to recover the separation hyperplanes of 46 classes) into an intermediate space that is too low-dimensional. The network is able to cram most of the necessary information into these 8-dimensional representations, but not all of it."
      ]
    },
    {
      "metadata": {
        "id": "RnDuhzXFrsnY",
        "colab_type": "code",
        "colab": {}
      },
      "cell_type": "code",
      "source": [
        ""
      ],
      "execution_count": 0,
      "outputs": []
    }
  ]
}